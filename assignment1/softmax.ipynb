{
 "cells": [
  {
   "cell_type": "markdown",
   "metadata": {},
   "source": [
    "# Softmax exercise\n",
    "\n",
    "*Complete and hand in this completed worksheet (including its outputs and any supporting code outside of the worksheet) with your assignment submission. For more details see the [assignments page](http://vision.stanford.edu/teaching/cs231n/assignments.html) on the course website.*\n",
    "\n",
    "This exercise is analogous to the SVM exercise. You will:\n",
    "\n",
    "- implement a fully-vectorized **loss function** for the Softmax classifier\n",
    "- implement the fully-vectorized expression for its **analytic gradient**\n",
    "- **check your implementation** with numerical gradient\n",
    "- use a validation set to **tune the learning rate and regularization** strength\n",
    "- **optimize** the loss function with **SGD**\n",
    "- **visualize** the final learned weights\n"
   ]
  },
  {
   "cell_type": "code",
   "execution_count": 1,
   "metadata": {
    "collapsed": true
   },
   "outputs": [],
   "source": [
    "import random\n",
    "import numpy as np\n",
    "from cs231n.data_utils import load_CIFAR10\n",
    "import matplotlib.pyplot as plt\n",
    "\n",
    "from __future__ import print_function\n",
    "\n",
    "%matplotlib inline\n",
    "plt.rcParams['figure.figsize'] = (10.0, 8.0) # set default size of plots\n",
    "plt.rcParams['image.interpolation'] = 'nearest'\n",
    "plt.rcParams['image.cmap'] = 'gray'\n",
    "\n",
    "# for auto-reloading extenrnal modules\n",
    "# see http://stackoverflow.com/questions/1907993/autoreload-of-modules-in-ipython\n",
    "%load_ext autoreload\n",
    "%autoreload 2"
   ]
  },
  {
   "cell_type": "code",
   "execution_count": 2,
   "metadata": {},
   "outputs": [
    {
     "name": "stdout",
     "output_type": "stream",
     "text": [
      "Train data shape:  (49000, 3073)\n",
      "Train labels shape:  (49000,)\n",
      "Validation data shape:  (1000, 3073)\n",
      "Validation labels shape:  (1000,)\n",
      "Test data shape:  (1000, 3073)\n",
      "Test labels shape:  (1000,)\n",
      "dev data shape:  (500, 3073)\n",
      "dev labels shape:  (500,)\n"
     ]
    }
   ],
   "source": [
    "def get_CIFAR10_data(num_training=49000, num_validation=1000, num_test=1000, num_dev=500):\n",
    "    \"\"\"\n",
    "    Load the CIFAR-10 dataset from disk and perform preprocessing to prepare\n",
    "    it for the linear classifier. These are the same steps as we used for the\n",
    "    SVM, but condensed to a single function.  \n",
    "    \"\"\"\n",
    "    # Load the raw CIFAR-10 data\n",
    "    cifar10_dir = 'cs231n/datasets/cifar-10-batches-py'\n",
    "    X_train, y_train, X_test, y_test = load_CIFAR10(cifar10_dir)\n",
    "    \n",
    "    # subsample the data\n",
    "    mask = list(range(num_training, num_training + num_validation))\n",
    "    X_val = X_train[mask]\n",
    "    y_val = y_train[mask]\n",
    "    mask = list(range(num_training))\n",
    "    X_train = X_train[mask]\n",
    "    y_train = y_train[mask]\n",
    "    mask = list(range(num_test))\n",
    "    X_test = X_test[mask]\n",
    "    y_test = y_test[mask]\n",
    "    mask = np.random.choice(num_training, num_dev, replace=False)\n",
    "    X_dev = X_train[mask]\n",
    "    y_dev = y_train[mask]\n",
    "    \n",
    "    # Preprocessing: reshape the image data into rows\n",
    "    X_train = np.reshape(X_train, (X_train.shape[0], -1))\n",
    "    X_val = np.reshape(X_val, (X_val.shape[0], -1))\n",
    "    X_test = np.reshape(X_test, (X_test.shape[0], -1))\n",
    "    X_dev = np.reshape(X_dev, (X_dev.shape[0], -1))\n",
    "    \n",
    "    # Normalize the data: subtract the mean image\n",
    "    mean_image = np.mean(X_train, axis = 0)\n",
    "    X_train -= mean_image\n",
    "    X_val -= mean_image\n",
    "    X_test -= mean_image\n",
    "    X_dev -= mean_image\n",
    "    \n",
    "    # add bias dimension and transform into columns\n",
    "    X_train = np.hstack([X_train, np.ones((X_train.shape[0], 1))])\n",
    "    X_val = np.hstack([X_val, np.ones((X_val.shape[0], 1))])\n",
    "    X_test = np.hstack([X_test, np.ones((X_test.shape[0], 1))])\n",
    "    X_dev = np.hstack([X_dev, np.ones((X_dev.shape[0], 1))])\n",
    "    \n",
    "    return X_train, y_train, X_val, y_val, X_test, y_test, X_dev, y_dev\n",
    "\n",
    "\n",
    "# Invoke the above function to get our data.\n",
    "X_train, y_train, X_val, y_val, X_test, y_test, X_dev, y_dev = get_CIFAR10_data()\n",
    "print('Train data shape: ', X_train.shape)\n",
    "print('Train labels shape: ', y_train.shape)\n",
    "print('Validation data shape: ', X_val.shape)\n",
    "print('Validation labels shape: ', y_val.shape)\n",
    "print('Test data shape: ', X_test.shape)\n",
    "print('Test labels shape: ', y_test.shape)\n",
    "print('dev data shape: ', X_dev.shape)\n",
    "print('dev labels shape: ', y_dev.shape)"
   ]
  },
  {
   "cell_type": "markdown",
   "metadata": {},
   "source": [
    "## Softmax Classifier\n",
    "\n",
    "Your code for this section will all be written inside **cs231n/classifiers/softmax.py**. \n"
   ]
  },
  {
   "cell_type": "code",
   "execution_count": 3,
   "metadata": {},
   "outputs": [
    {
     "name": "stdout",
     "output_type": "stream",
     "text": [
      "loss: 2.399594\n",
      "sanity check: 2.302585\n"
     ]
    }
   ],
   "source": [
    "# First implement the naive softmax loss function with nested loops.\n",
    "# Open the file cs231n/classifiers/softmax.py and implement the\n",
    "# softmax_loss_naive function.\n",
    "\n",
    "from cs231n.classifiers.softmax import softmax_loss_naive\n",
    "import time\n",
    "\n",
    "# Generate a random softmax weight matrix and use it to compute the loss.\n",
    "W = np.random.randn(3073, 10) * 0.0001\n",
    "loss, grad = softmax_loss_naive(W, X_dev, y_dev, 0.0)\n",
    "\n",
    "# As a rough sanity check, our loss should be something close to -log(0.1).\n",
    "print('loss: %f' % loss)\n",
    "print('sanity check: %f' % (-np.log(0.1)))"
   ]
  },
  {
   "cell_type": "markdown",
   "metadata": {},
   "source": [
    "## Inline Question 1:\n",
    "Why do we expect our loss to be close to -log(0.1)? Explain briefly.**\n",
    "\n",
    "**Your answer:** The weights provided is totally random, so the prediction is probably random too. In total there is 10 classes, so the assume random uniform then each class gets 1/10 = 0.1 probablity, thus -np.log(0.1).\n"
   ]
  },
  {
   "cell_type": "code",
   "execution_count": 4,
   "metadata": {},
   "outputs": [
    {
     "name": "stdout",
     "output_type": "stream",
     "text": [
      "numerical: 2.449470 analytic: 2.449470, relative error: 4.149442e-09\n",
      "numerical: 0.792280 analytic: 0.792280, relative error: 1.986017e-08\n",
      "numerical: 1.868536 analytic: 1.868536, relative error: 2.060155e-08\n",
      "numerical: 0.727018 analytic: 0.727018, relative error: 4.749821e-08\n",
      "numerical: -3.214608 analytic: -3.214608, relative error: 1.330836e-08\n",
      "numerical: 2.935812 analytic: 2.935812, relative error: 2.561461e-08\n",
      "numerical: 1.537128 analytic: 1.537128, relative error: 4.873970e-09\n",
      "numerical: 0.583124 analytic: 0.583124, relative error: 8.389394e-08\n",
      "numerical: 0.559326 analytic: 0.559326, relative error: 3.351690e-08\n",
      "numerical: 0.090354 analytic: 0.090354, relative error: 2.247550e-07\n",
      "numerical: 0.720753 analytic: 0.720753, relative error: 6.615064e-08\n",
      "numerical: 0.101806 analytic: 0.101806, relative error: 3.362386e-07\n",
      "numerical: 1.754365 analytic: 1.754365, relative error: 2.799584e-08\n",
      "numerical: 0.166632 analytic: 0.166632, relative error: 5.155607e-08\n",
      "numerical: 0.524536 analytic: 0.524536, relative error: 5.200434e-08\n",
      "numerical: -1.820300 analytic: -1.820300, relative error: 2.257950e-09\n",
      "numerical: 1.314353 analytic: 1.314353, relative error: 4.657441e-08\n",
      "numerical: -0.307019 analytic: -0.307019, relative error: 6.674794e-09\n",
      "numerical: -3.401007 analytic: -3.401007, relative error: 1.573189e-08\n",
      "numerical: -1.368950 analytic: -1.368950, relative error: 1.451541e-09\n"
     ]
    }
   ],
   "source": [
    "# Complete the implementation of softmax_loss_naive and implement a (naive)\n",
    "# version of the gradient that uses nested loops.\n",
    "loss, grad = softmax_loss_naive(W, X_dev, y_dev, 0.0)\n",
    "\n",
    "# As we did for the SVM, use numeric gradient checking as a debugging tool.\n",
    "# The numeric gradient should be close to the analytic gradient.\n",
    "from cs231n.gradient_check import grad_check_sparse\n",
    "f = lambda w: softmax_loss_naive(w, X_dev, y_dev, 0.0)[0]\n",
    "grad_numerical = grad_check_sparse(f, W, grad, 10)\n",
    "\n",
    "# similar to SVM case, do another gradient check with regularization\n",
    "loss, grad = softmax_loss_naive(W, X_dev, y_dev, 5e1)\n",
    "f = lambda w: softmax_loss_naive(w, X_dev, y_dev, 5e1)[0]\n",
    "grad_numerical = grad_check_sparse(f, W, grad, 10)"
   ]
  },
  {
   "cell_type": "code",
   "execution_count": 5,
   "metadata": {},
   "outputs": [
    {
     "name": "stdout",
     "output_type": "stream",
     "text": [
      "naive loss: 2.399594e+00 computed in 0.164302s\n",
      "vectorized loss: 2.399594e+00 computed in 0.008181s\n",
      "Loss difference: 0.000000\n",
      "Gradient difference: 0.000000\n"
     ]
    }
   ],
   "source": [
    "# Now that we have a naive implementation of the softmax loss function and its gradient,\n",
    "# implement a vectorized version in softmax_loss_vectorized.\n",
    "# The two versions should compute the same results, but the vectorized version should be\n",
    "# much faster.\n",
    "tic = time.time()\n",
    "loss_naive, grad_naive = softmax_loss_naive(W, X_dev, y_dev, 0.000005)\n",
    "toc = time.time()\n",
    "print('naive loss: %e computed in %fs' % (loss_naive, toc - tic))\n",
    "\n",
    "from cs231n.classifiers.softmax import softmax_loss_vectorized\n",
    "tic = time.time()\n",
    "loss_vectorized, grad_vectorized = softmax_loss_vectorized(W, X_dev, y_dev, 0.000005)\n",
    "toc = time.time()\n",
    "print('vectorized loss: %e computed in %fs' % (loss_vectorized, toc - tic))\n",
    "\n",
    "# As we did for the SVM, we use the Frobenius norm to compare the two versions\n",
    "# of the gradient.\n",
    "grad_difference = np.linalg.norm(grad_naive - grad_vectorized, ord='fro')\n",
    "print('Loss difference: %f' % np.abs(loss_naive - loss_vectorized))\n",
    "print('Gradient difference: %f' % grad_difference)"
   ]
  },
  {
   "cell_type": "code",
   "execution_count": 6,
   "metadata": {},
   "outputs": [
    {
     "name": "stdout",
     "output_type": "stream",
     "text": [
      "lr 1.000000e-07 reg 2.500000e+04 train accuracy: 0.335184 val accuracy: 0.355000\n",
      "lr 1.000000e-07 reg 2.916667e+04 train accuracy: 0.326347 val accuracy: 0.347000\n",
      "lr 1.000000e-07 reg 3.333333e+04 train accuracy: 0.323918 val accuracy: 0.329000\n",
      "lr 1.000000e-07 reg 3.750000e+04 train accuracy: 0.317939 val accuracy: 0.335000\n",
      "lr 1.000000e-07 reg 4.166667e+04 train accuracy: 0.314653 val accuracy: 0.323000\n",
      "lr 1.000000e-07 reg 4.583333e+04 train accuracy: 0.309000 val accuracy: 0.322000\n",
      "lr 1.000000e-07 reg 5.000000e+04 train accuracy: 0.308265 val accuracy: 0.314000\n",
      "lr 1.307660e-07 reg 2.500000e+04 train accuracy: 0.324714 val accuracy: 0.332000\n",
      "lr 1.307660e-07 reg 2.916667e+04 train accuracy: 0.323653 val accuracy: 0.337000\n",
      "lr 1.307660e-07 reg 3.333333e+04 train accuracy: 0.323918 val accuracy: 0.342000\n",
      "lr 1.307660e-07 reg 3.750000e+04 train accuracy: 0.324571 val accuracy: 0.331000\n",
      "lr 1.307660e-07 reg 4.166667e+04 train accuracy: 0.315714 val accuracy: 0.325000\n",
      "lr 1.307660e-07 reg 4.583333e+04 train accuracy: 0.305796 val accuracy: 0.322000\n",
      "lr 1.307660e-07 reg 5.000000e+04 train accuracy: 0.307612 val accuracy: 0.318000\n",
      "lr 1.709976e-07 reg 2.500000e+04 train accuracy: 0.336592 val accuracy: 0.342000\n",
      "lr 1.709976e-07 reg 2.916667e+04 train accuracy: 0.317551 val accuracy: 0.338000\n",
      "lr 1.709976e-07 reg 3.333333e+04 train accuracy: 0.311939 val accuracy: 0.338000\n",
      "lr 1.709976e-07 reg 3.750000e+04 train accuracy: 0.309735 val accuracy: 0.328000\n",
      "lr 1.709976e-07 reg 4.166667e+04 train accuracy: 0.316163 val accuracy: 0.322000\n",
      "lr 1.709976e-07 reg 4.583333e+04 train accuracy: 0.302918 val accuracy: 0.318000\n",
      "lr 1.709976e-07 reg 5.000000e+04 train accuracy: 0.305694 val accuracy: 0.314000\n",
      "lr 2.236068e-07 reg 2.500000e+04 train accuracy: 0.327714 val accuracy: 0.340000\n",
      "lr 2.236068e-07 reg 2.916667e+04 train accuracy: 0.330592 val accuracy: 0.344000\n",
      "lr 2.236068e-07 reg 3.333333e+04 train accuracy: 0.320143 val accuracy: 0.340000\n",
      "lr 2.236068e-07 reg 3.750000e+04 train accuracy: 0.315571 val accuracy: 0.324000\n",
      "lr 2.236068e-07 reg 4.166667e+04 train accuracy: 0.319510 val accuracy: 0.331000\n",
      "lr 2.236068e-07 reg 4.583333e+04 train accuracy: 0.314204 val accuracy: 0.320000\n",
      "lr 2.236068e-07 reg 5.000000e+04 train accuracy: 0.294918 val accuracy: 0.317000\n",
      "lr 2.924018e-07 reg 2.500000e+04 train accuracy: 0.326265 val accuracy: 0.340000\n",
      "lr 2.924018e-07 reg 2.916667e+04 train accuracy: 0.318449 val accuracy: 0.334000\n",
      "lr 2.924018e-07 reg 3.333333e+04 train accuracy: 0.323408 val accuracy: 0.338000\n",
      "lr 2.924018e-07 reg 3.750000e+04 train accuracy: 0.308918 val accuracy: 0.323000\n",
      "lr 2.924018e-07 reg 4.166667e+04 train accuracy: 0.304163 val accuracy: 0.326000\n",
      "lr 2.924018e-07 reg 4.583333e+04 train accuracy: 0.307694 val accuracy: 0.327000\n",
      "lr 2.924018e-07 reg 5.000000e+04 train accuracy: 0.307694 val accuracy: 0.331000\n",
      "lr 3.823622e-07 reg 2.500000e+04 train accuracy: 0.312000 val accuracy: 0.335000\n",
      "lr 3.823622e-07 reg 2.916667e+04 train accuracy: 0.324571 val accuracy: 0.341000\n",
      "lr 3.823622e-07 reg 3.333333e+04 train accuracy: 0.320306 val accuracy: 0.332000\n",
      "lr 3.823622e-07 reg 3.750000e+04 train accuracy: 0.316816 val accuracy: 0.323000\n",
      "lr 3.823622e-07 reg 4.166667e+04 train accuracy: 0.314490 val accuracy: 0.332000\n",
      "lr 3.823622e-07 reg 4.583333e+04 train accuracy: 0.307429 val accuracy: 0.316000\n",
      "lr 3.823622e-07 reg 5.000000e+04 train accuracy: 0.293306 val accuracy: 0.316000\n",
      "lr 5.000000e-07 reg 2.500000e+04 train accuracy: 0.319531 val accuracy: 0.333000\n",
      "lr 5.000000e-07 reg 2.916667e+04 train accuracy: 0.323592 val accuracy: 0.338000\n",
      "lr 5.000000e-07 reg 3.333333e+04 train accuracy: 0.312673 val accuracy: 0.332000\n",
      "lr 5.000000e-07 reg 3.750000e+04 train accuracy: 0.313857 val accuracy: 0.331000\n",
      "lr 5.000000e-07 reg 4.166667e+04 train accuracy: 0.302918 val accuracy: 0.325000\n",
      "lr 5.000000e-07 reg 4.583333e+04 train accuracy: 0.312551 val accuracy: 0.326000\n",
      "lr 5.000000e-07 reg 5.000000e+04 train accuracy: 0.299633 val accuracy: 0.314000\n",
      "best validation accuracy achieved during cross-validation: 0.355000\n"
     ]
    }
   ],
   "source": [
    "# Use the validation set to tune hyperparameters (regularization strength and\n",
    "# learning rate). You should experiment with different ranges for the learning\n",
    "# rates and regularization strengths; if you are careful you should be able to\n",
    "# get a classification accuracy of over 0.35 on the validation set.\n",
    "from cs231n.classifiers import Softmax\n",
    "results = {}\n",
    "best_val = -1\n",
    "best_softmax = None\n",
    "learning_rates = [1e-7, 5e-7]\n",
    "regularization_strengths = [2.5e4, 5e4]\n",
    "\n",
    "################################################################################\n",
    "# TODO:                                                                        #\n",
    "# Use the validation set to set the learning rate and regularization strength. #\n",
    "# This should be identical to the validation that you did for the SVM; save    #\n",
    "# the best trained softmax classifer in best_softmax.                          #\n",
    "################################################################################\n",
    "n_tune = 7\n",
    "lr = 10.**(np.linspace(np.log10(learning_rates[0]), np.log10(learning_rates[1]), n_tune))\n",
    "reg = np.linspace(regularization_strengths[0], regularization_strengths[1], n_tune)\n",
    "\n",
    "n_iter = 1000\n",
    "n_loop = 0\n",
    "for i in lr:\n",
    "    for j in reg:\n",
    "        n_loop += 1\n",
    "        clf = Softmax()\n",
    "        clf.train(X_train, y_train, learning_rate=i, reg=j, num_iters=n_iter, verbose=False)\n",
    "        y_train_pred = clf.predict(X_train)\n",
    "        train_accuracy = np.mean(y_train == y_train_pred)\n",
    "        y_val_pred = clf.predict(X_val)\n",
    "        val_accuracy = np.mean(y_val == y_val_pred)\n",
    "        results[(i,j)] = (train_accuracy, val_accuracy)\n",
    "#         print((i,j), results[(i,j)])\n",
    "        if val_accuracy > best_val:\n",
    "            best_softmax = clf\n",
    "            best_val = val_accuracy\n",
    "        print(\"Done {0:.2f}%\".format(n_loop/len(lr)/len(reg)*100), end='\\r')\n",
    "        \n",
    "best_params, best_result = max(results.items(), key=lambda k: k[1][1])\n",
    "best_val = best_result[1]\n",
    "################################################################################\n",
    "#                              END OF YOUR CODE                                #\n",
    "################################################################################\n",
    "    \n",
    "# Print out results.\n",
    "for lr, reg in sorted(results):\n",
    "    train_accuracy, val_accuracy = results[(lr, reg)]\n",
    "    print('lr %e reg %e train accuracy: %f val accuracy: %f' % (\n",
    "                lr, reg, train_accuracy, val_accuracy))\n",
    "    \n",
    "print('best validation accuracy achieved during cross-validation: %f' % best_val)"
   ]
  },
  {
   "cell_type": "code",
   "execution_count": 7,
   "metadata": {},
   "outputs": [
    {
     "name": "stdout",
     "output_type": "stream",
     "text": [
      "softmax on raw pixels final test set accuracy: 0.344000\n"
     ]
    }
   ],
   "source": [
    "# evaluate on test set\n",
    "# Evaluate the best softmax on test set\n",
    "y_test_pred = best_softmax.predict(X_test)\n",
    "test_accuracy = np.mean(y_test == y_test_pred)\n",
    "print('softmax on raw pixels final test set accuracy: %f' % (test_accuracy, ))"
   ]
  },
  {
   "cell_type": "code",
   "execution_count": 8,
   "metadata": {},
   "outputs": [
    {
     "data": {
      "image/png": "[encoded data removed]",
      "text/plain": [
       "<matplotlib.figure.Figure at 0x7f1694771a90>"
      ]
     },
     "metadata": {},
     "output_type": "display_data"
    }
   ],
   "source": [
    "# Visualize the learned weights for each class\n",
    "w = best_softmax.W[:-1,:] # strip out the bias\n",
    "w = w.reshape(32, 32, 3, 10)\n",
    "\n",
    "w_min, w_max = np.min(w), np.max(w)\n",
    "\n",
    "classes = ['plane', 'car', 'bird', 'cat', 'deer', 'dog', 'frog', 'horse', 'ship', 'truck']\n",
    "for i in range(10):\n",
    "    plt.subplot(2, 5, i + 1)\n",
    "    \n",
    "    # Rescale the weights to be between 0 and 255\n",
    "    wimg = 255.0 * (w[:, :, :, i].squeeze() - w_min) / (w_max - w_min)\n",
    "    plt.imshow(wimg.astype('uint8'))\n",
    "    plt.axis('off')\n",
    "    plt.title(classes[i])"
   ]
  },
  {
   "cell_type": "code",
   "execution_count": null,
   "metadata": {
    "collapsed": true
   },
   "outputs": [],
   "source": []
  }
 ],
 "metadata": {
  "kernelspec": {
   "display_name": "Python 3",
   "language": "python",
   "name": "python3"
  },
  "language_info": {
   "codemirror_mode": {
    "name": "ipython",
    "version": 3
   },
   "file_extension": ".py",
   "mimetype": "text/x-python",
   "name": "python",
   "nbconvert_exporter": "python",
   "pygments_lexer": "ipython3",
   "version": "3.5.2"
  }
 },
 "nbformat": 4,
 "nbformat_minor": 1
}
